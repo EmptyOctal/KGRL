{
 "cells": [
  {
   "cell_type": "markdown",
   "metadata": {},
   "source": [
    "#### 知识图谱分析"
   ]
  },
  {
   "cell_type": "code",
   "execution_count": 31,
   "metadata": {},
   "outputs": [],
   "source": [
    "from collections import defaultdict"
   ]
  },
  {
   "cell_type": "code",
   "execution_count": 32,
   "metadata": {},
   "outputs": [],
   "source": [
    "# 从文件中加载实体和关系的映射\n",
    "def load_entity_relation_mappings(output_dir):\n",
    "    entity2id = {}\n",
    "    relation2id = {}\n",
    "\n",
    "    # 读取 entity2id 文件\n",
    "    with open(f\"{output_dir}/entity2id.txt\", 'r', encoding='utf-8') as e_file:\n",
    "        for line in e_file:\n",
    "            entity, eid = line.strip().split()\n",
    "            entity2id[entity] = int(eid)\n",
    "\n",
    "    # 读取 relation2id 文件\n",
    "    with open(f\"{output_dir}/relation2id.txt\", 'r', encoding='utf-8') as r_file:\n",
    "        for line in r_file:\n",
    "            relation, rid = line.strip().split()\n",
    "            relation2id[relation] = int(rid)\n",
    "\n",
    "    return entity2id, relation2id\n",
    "\n",
    "# 调用\n",
    "output_dir = \"dataset/processed\"\n",
    "entity2id, relation2id = load_entity_relation_mappings(output_dir)"
   ]
  },
  {
   "cell_type": "code",
   "execution_count": 33,
   "metadata": {},
   "outputs": [],
   "source": [
    "# 加载三元组并进行分析\n",
    "def load_triples(file_path):\n",
    "    triples = []\n",
    "    with open(file_path, 'r', encoding='utf-8') as f:\n",
    "        for line in f:\n",
    "            h, r, t = line.strip().split()  # 三元组\n",
    "            triples.append((h, r, t))  # 直接返回三元组中的字符串\n",
    "    return triples\n",
    "\n",
    "# 调用\n",
    "train_triples = load_triples(f\"{output_dir}/train.txt\")\n",
    "test_triples = load_triples(f\"{output_dir}/test.txt\")"
   ]
  },
  {
   "cell_type": "markdown",
   "metadata": {},
   "source": [
    "1. 基本统计：分析实体和关系的数量"
   ]
  },
  {
   "cell_type": "code",
   "execution_count": 34,
   "metadata": {},
   "outputs": [],
   "source": [
    "def basic_stats(entity2id, relation2id):\n",
    "    num_entities = len(entity2id)\n",
    "    num_relations = len(relation2id)\n",
    "\n",
    "    print(f\"实体总数: {num_entities}\")\n",
    "    print(f\"关系总数: {num_relations}\")\n",
    "    print()\n"
   ]
  },
  {
   "cell_type": "markdown",
   "metadata": {},
   "source": [
    "2. 关系频率分析：分析训练集中的关系频率，识别最常见的关系。"
   ]
  },
  {
   "cell_type": "code",
   "execution_count": 35,
   "metadata": {},
   "outputs": [],
   "source": [
    "def analyze_relation_frequencies(triples):\n",
    "    relation_count = defaultdict(int)\n",
    "\n",
    "    for h, r, t in triples:\n",
    "        relation_count[r] += 1\n",
    "\n",
    "    # 按照关系出现次数从高到低排序\n",
    "    sorted_relations_by_count = sorted(relation_count.items(), key=lambda x: x[1], reverse=True)\n",
    "    \n",
    "    # 输出前5个最常见的关系\n",
    "    print(\"前5个最常见的关系:\")\n",
    "    for relation, count in sorted_relations_by_count[:5]:\n",
    "        print(f\"关系: {relation}  出现次数: {count}\")\n",
    "    print()"
   ]
  },
  {
   "cell_type": "markdown",
   "metadata": {},
   "source": [
    "3. 实体连接分析：统计每个实体的度，找出在知识图谱中最活跃的实体。"
   ]
  },
  {
   "cell_type": "code",
   "execution_count": 36,
   "metadata": {},
   "outputs": [],
   "source": [
    "def analyze_entity_degrees(triples):\n",
    "    entity_degree = defaultdict(int)\n",
    "\n",
    "    for h, r, t in triples:\n",
    "        entity_degree[h] += 1\n",
    "        entity_degree[t] += 1\n",
    "    \n",
    "    # 按照实体度从高到低排序\n",
    "    sorted_entities_by_degree = sorted(entity_degree.items(), key=lambda x: x[1], reverse=True)\n",
    "    \n",
    "    # 输出前10个实体的度\n",
    "    print(\"前10个实体的度:\")\n",
    "    for entity, degree in sorted_entities_by_degree[:10]:\n",
    "        print(f\"实体: {entity}  度数: {degree}\")\n",
    "    print()"
   ]
  },
  {
   "cell_type": "markdown",
   "metadata": {},
   "source": [
    "4. 训练集和测试集划分分析"
   ]
  },
  {
   "cell_type": "code",
   "execution_count": 37,
   "metadata": {},
   "outputs": [],
   "source": [
    "def analyze_train_test_split(train_triples, test_triples):\n",
    "    train_entities = set([h for h, r, t in train_triples]).union(set([t for h, r, t in train_triples]))\n",
    "    test_entities = set([h for h, r, t in test_triples]).union(set([t for h, r, t in test_triples]))\n",
    "    train_relations = set([r for h, r, t in train_triples])\n",
    "    test_relations = set([r for h, r, t in test_triples])\n",
    "\n",
    "    print(f\"训练集实体数: {len(train_entities)}\")\n",
    "    print(f\"测试集实体数: {len(test_entities)}\")\n",
    "    print(f\"训练集关系数: {len(train_relations)}\")\n",
    "    print(f\"测试集关系数: {len(test_relations)}\")\n",
    "    print()"
   ]
  },
  {
   "cell_type": "markdown",
   "metadata": {},
   "source": [
    "调用"
   ]
  },
  {
   "cell_type": "code",
   "execution_count": 39,
   "metadata": {},
   "outputs": [
    {
     "name": "stdout",
     "output_type": "stream",
     "text": [
      "实体总数: 162336\n",
      "关系总数: 47\n",
      "\n",
      "训练集实体数: 145227\n",
      "测试集实体数: 59857\n",
      "训练集关系数: 47\n",
      "测试集关系数: 47\n",
      "\n",
      "前5个最常见的关系:\n",
      "关系: Causes  出现次数: 57801\n",
      "关系: MotivatedByGoal  出现次数: 44408\n",
      "关系: HasSubevent  出现次数: 32722\n",
      "关系: IsA  出现次数: 28883\n",
      "关系: RelatedTo  出现次数: 24962\n",
      "\n",
      "前10个实体的度:\n",
      "实体: 睡觉  度数: 4462\n",
      "实体: 吃饭  度数: 3549\n",
      "实体: 人  度数: 2728\n",
      "实体: 快乐  度数: 2261\n",
      "实体: 开心  度数: 2189\n",
      "实体: 生气  度数: 2096\n",
      "实体: 老师  度数: 1671\n",
      "实体: 洗澡  度数: 1609\n",
      "实体: 钱  度数: 1565\n",
      "实体: 运动  度数: 1564\n",
      "\n"
     ]
    }
   ],
   "source": [
    "# 实体和关系的数量\n",
    "basic_stats(entity2id, relation2id)\n",
    "# 训练、测试集分析\n",
    "analyze_train_test_split(train_triples, test_triples)\n",
    "# 关系频率分析\n",
    "analyze_relation_frequencies(train_triples)\n",
    "# 实体度分析\n",
    "analyze_entity_degrees(train_triples)"
   ]
  }
 ],
 "metadata": {
  "kernelspec": {
   "display_name": "Python 3",
   "language": "python",
   "name": "python3"
  },
  "language_info": {
   "codemirror_mode": {
    "name": "ipython",
    "version": 3
   },
   "file_extension": ".py",
   "mimetype": "text/x-python",
   "name": "python",
   "nbconvert_exporter": "python",
   "pygments_lexer": "ipython3",
   "version": "3.11.8"
  }
 },
 "nbformat": 4,
 "nbformat_minor": 2
}
