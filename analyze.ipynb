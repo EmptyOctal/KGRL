{
 "cells": [
  {
   "cell_type": "markdown",
   "metadata": {},
   "source": [
    "#### 知识图谱分析"
   ]
  },
  {
   "cell_type": "code",
   "execution_count": 4,
   "metadata": {},
   "outputs": [],
   "source": [
    "from collections import defaultdict\n",
    "from data.data_aug import data_ag\n",
    "from utils.load import load_train_data\n",
    "import matplotlib\n",
    "from matplotlib import pyplot as plt\n",
    "import numpy as np"
   ]
  },
  {
   "cell_type": "code",
   "execution_count": 5,
   "metadata": {},
   "outputs": [],
   "source": [
    "# 加载数据\n",
    "triple_list, entity2id, relation2id = load_train_data('dataset/processed/')\n",
    "# 设置字体为支持中文\n",
    "matplotlib.rcParams['font.sans-serif'] = ['SimHei']  # 中文黑体\n",
    "matplotlib.rcParams['axes.unicode_minus'] = False  # 正常显示负号"
   ]
  },
  {
   "cell_type": "code",
   "execution_count": 6,
   "metadata": {},
   "outputs": [],
   "source": [
    "# 加载三元组并进行分析\n",
    "def load_triples(file_path):\n",
    "    triples = []\n",
    "    with open(file_path, 'r', encoding='utf-8') as f:\n",
    "        for line in f:\n",
    "            h, r, t = line.strip().split()  # 三元组\n",
    "            triples.append((h, r, t))  # 直接返回三元组中的字符串\n",
    "    return triples\n",
    "\n",
    "# 调用\n",
    "train_triples = load_triples(f\"dataset/processed/train.txt\")\n",
    "test_triples = load_triples(f\"dataset/processed/test.txt\")"
   ]
  },
  {
   "cell_type": "markdown",
   "metadata": {},
   "source": [
    "\n",
    "\n",
    "\n",
    "\n",
    "1. 基本统计：分析实体和关系的数量"
   ]
  },
  {
   "cell_type": "code",
   "execution_count": 7,
   "metadata": {},
   "outputs": [],
   "source": [
    "def basic_stats(entity2id, relation2id):\n",
    "    num_entities = len(entity2id)\n",
    "    num_relations = len(relation2id)\n",
    "\n",
    "    print(f\"实体总数: {num_entities}\")\n",
    "    print(f\"关系总数: {num_relations}\")"
   ]
  },
  {
   "cell_type": "markdown",
   "metadata": {},
   "source": [
    "2. 关系频率分析：分析训练集中的关系频率，识别最(不)常见的关系。"
   ]
  },
  {
   "cell_type": "code",
   "execution_count": 8,
   "metadata": {},
   "outputs": [],
   "source": [
    "def analyze_relation_frequencies(triples):\n",
    "    relation_count = defaultdict(int)\n",
    "\n",
    "    for h, r, t in triples:\n",
    "        relation_count[r] += 1\n",
    "\n",
    "    # 按照关系出现次数从高到低排序\n",
    "    sorted_relations_by_count = sorted(relation_count.items(), key=lambda x: x[1], reverse=True)\n",
    "    \n",
    "    # 输出前5个最常见的关系\n",
    "    print(\"前5个最常见的关系:\")\n",
    "    for relation, count in sorted_relations_by_count[:5]:\n",
    "        print(f\"关系: {relation}  出现次数: {count}\")\n",
    "\n",
    "    # 输出最不常见的5个关系\n",
    "    print(\"最不常见的5个关系:\")\n",
    "    for relation, count in sorted_relations_by_count[-5:]:\n",
    "        print(f\"关系: {relation}  出现次数: {count}\")\n",
    "    \n",
    "    # 获取所有关系的出现次数\n",
    "    counts = [count for relation, count in sorted_relations_by_count]\n",
    "\n",
    "    # 定义区间\n",
    "    max_count = sorted_relations_by_count[0][1]\n",
    "    bin_size = 10000  # 每个区间的大小\n",
    "    bins = list(range(0, max_count + bin_size, bin_size))  # 以1000为区间进行划分\n",
    "    relation_distribution = defaultdict(int)\n",
    "\n",
    "    # 统计每个区间内有多少关系\n",
    "    for count in counts:\n",
    "        for i in range(len(bins) - 1):\n",
    "            if bins[i] <= count < bins[i + 1]:\n",
    "                relation_distribution[(bins[i], bins[i + 1])] += 1\n",
    "                break\n",
    "\n",
    "    # 输出各个区间内的关系数量\n",
    "    print(\"关系出现次数的区间及其关系数量:\")\n",
    "    for (start, end), count in relation_distribution.items():\n",
    "        print(f\"{start} - {end}: {count} 个关系\")"
   ]
  },
  {
   "cell_type": "markdown",
   "metadata": {},
   "source": [
    "3. 实体连接分析：统计每个实体的度，找出在知识图谱中最活跃的实体。"
   ]
  },
  {
   "cell_type": "code",
   "execution_count": 9,
   "metadata": {},
   "outputs": [],
   "source": [
    "def analyze_entity_degrees(triples):\n",
    "    entity_degree = defaultdict(int)\n",
    "\n",
    "    for h, r, t in triples:\n",
    "        entity_degree[h] += 1\n",
    "        entity_degree[t] += 1\n",
    "    \n",
    "    # 按照实体度从高到低排序\n",
    "    sorted_entities_by_degree = sorted(entity_degree.items(), key=lambda x: x[1], reverse=True)\n",
    "    \n",
    "    # 输出度最大的5个实体\n",
    "    print(\"度数最大的5个实体:\")\n",
    "    for entity, degree in sorted_entities_by_degree[:5]:\n",
    "        print(f\"实体: {entity}  度数: {degree}\")\n",
    "        \n",
    "    # 输出度最小的5个实体\n",
    "    print(\"度最小的5个实体:\")\n",
    "    for entity, degree in sorted_entities_by_degree[-5:]:\n",
    "        print(f\"实体: {entity}  度数: {degree}\")\n",
    "    \n",
    "    # 获取度数数据\n",
    "    degrees = list(entity_degree.values())\n",
    "    # 定义区间\n",
    "    bins = np.concatenate((np.arange(0, 501, 100), np.arange(500, 5001, 500)))  # 0-500细分为100, 其他区间500到5000\n",
    "    # 计算每个区间的实体数量\n",
    "    hist, edges = np.histogram(degrees, bins=bins)\n",
    "    # 打印统计结果\n",
    "    print(\"实体度数的区间及其实体数量:\")\n",
    "    for i in range(len(hist)):\n",
    "        print(f'{edges[i]} - {edges[i+1]}: {hist[i]} 个实体')"
   ]
  },
  {
   "cell_type": "markdown",
   "metadata": {},
   "source": [
    "4. 训练集和测试集划分分析"
   ]
  },
  {
   "cell_type": "code",
   "execution_count": 10,
   "metadata": {},
   "outputs": [],
   "source": [
    "def analyze_train_test_split(train_triples, test_triples):\n",
    "    train_entities = set([h for h, r, t in train_triples]).union(set([t for h, r, t in train_triples]))\n",
    "    test_entities = set([h for h, r, t in test_triples]).union(set([t for h, r, t in test_triples]))\n",
    "    train_relations = set([r for h, r, t in train_triples])\n",
    "    test_relations = set([r for h, r, t in test_triples])\n",
    "\n",
    "    print(f\"训练集实体数: {len(train_entities)}\")\n",
    "    print(f\"测试集实体数: {len(test_entities)}\")\n",
    "    print(f\"训练集关系数: {len(train_relations)}\")\n",
    "    print(f\"测试集关系数: {len(test_relations)}\")"
   ]
  },
  {
   "cell_type": "markdown",
   "metadata": {},
   "source": [
    "\n",
    "调用"
   ]
  },
  {
   "cell_type": "markdown",
   "metadata": {},
   "source": [
    "#### 数据增强"
   ]
  },
  {
   "cell_type": "code",
   "execution_count": 11,
   "metadata": {},
   "outputs": [
    {
     "name": "stdout",
     "output_type": "stream",
     "text": [
      "实体总数: 162336\n",
      "关系总数: 47\n",
      "\n",
      "训练集实体数: 145227\n",
      "测试集实体数: 59857\n",
      "训练集关系数: 47\n",
      "测试集关系数: 47\n",
      "\n",
      "前5个最常见的关系:\n",
      "关系: Causes  出现次数: 57801\n",
      "关系: MotivatedByGoal  出现次数: 44408\n",
      "关系: HasSubevent  出现次数: 32722\n",
      "关系: IsA  出现次数: 28883\n",
      "关系: RelatedTo  出现次数: 24962\n",
      "最不常见的5个关系:\n",
      "关系: DefinedAs  出现次数: 73\n",
      "关系: LocatedNear  出现次数: 64\n",
      "关系: dbpedia/leader  出现次数: 29\n",
      "关系: NotCapableOf  出现次数: 10\n",
      "关系: EtymologicallyDerivedFrom  出现次数: 10\n",
      "关系出现次数的区间及其关系数量:\n",
      "50000 - 60000: 1 个关系\n",
      "40000 - 50000: 1 个关系\n",
      "30000 - 40000: 1 个关系\n",
      "20000 - 30000: 3 个关系\n",
      "10000 - 20000: 10 个关系\n",
      "0 - 10000: 31 个关系\n",
      "\n",
      "度数最大的5个实体:\n",
      "实体: 睡觉  度数: 4462\n",
      "实体: 吃饭  度数: 3549\n",
      "实体: 人  度数: 2728\n",
      "实体: 快乐  度数: 2261\n",
      "实体: 开心  度数: 2189\n",
      "度最小的5个实体:\n",
      "实体: 抓虾子  度数: 1\n",
      "实体: 什拉赫塔  度数: 1\n",
      "实体: 踹你  度数: 1\n",
      "实体: 盥洗完毕  度数: 1\n",
      "实体: 黑胡椒猪排  度数: 1\n",
      "实体度数的区间及其实体数量:\n",
      "0 - 100: 144300 个实体\n",
      "100 - 200: 517 个实体\n",
      "200 - 300: 176 个实体\n",
      "300 - 400: 77 个实体\n",
      "400 - 500: 55 个实体\n",
      "500 - 500: 0 个实体\n",
      "500 - 1000: 73 个实体\n",
      "1000 - 1500: 18 个实体\n",
      "1500 - 2000: 5 个实体\n",
      "2000 - 2500: 3 个实体\n",
      "2500 - 3000: 1 个实体\n",
      "3000 - 3500: 0 个实体\n",
      "3500 - 4000: 1 个实体\n",
      "4000 - 4500: 1 个实体\n",
      "4500 - 5000: 0 个实体\n"
     ]
    }
   ],
   "source": [
    "# 实体和关系的数量\n",
    "basic_stats(entity2id, relation2id)\n",
    "print()\n",
    "# 训练、测试集分析\n",
    "analyze_train_test_split(train_triples, test_triples)\n",
    "print()\n",
    "# 关系频率分析\n",
    "analyze_relation_frequencies(train_triples)\n",
    "print()\n",
    "# 实体度分析\n",
    "analyze_entity_degrees(train_triples)"
   ]
  }
 ],
 "metadata": {
  "kernelspec": {
   "display_name": "Python 3",
   "language": "python",
   "name": "python3"
  },
  "language_info": {
   "codemirror_mode": {
    "name": "ipython",
    "version": 3
   },
   "file_extension": ".py",
   "mimetype": "text/x-python",
   "name": "python",
   "nbconvert_exporter": "python",
   "pygments_lexer": "ipython3",
   "version": "3.11.8"
  }
 },
 "nbformat": 4,
 "nbformat_minor": 2
}
